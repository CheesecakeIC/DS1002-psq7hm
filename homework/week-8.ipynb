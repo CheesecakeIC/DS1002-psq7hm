{
  "nbformat": 4,
  "nbformat_minor": 0,
  "metadata": {
    "colab": {
      "provenance": [],
      "include_colab_link": true
    },
    "kernelspec": {
      "name": "python3",
      "display_name": "Python 3"
    },
    "language_info": {
      "name": "python"
    }
  },
  "cells": [
    {
      "cell_type": "markdown",
      "metadata": {
        "id": "view-in-github",
        "colab_type": "text"
      },
      "source": [
        "<a href=\"https://colab.research.google.com/github/CheesecakeIC/DS1002-psq7hm/blob/main/homework/week-8.ipynb\" target=\"_parent\"><img src=\"https://colab.research.google.com/assets/colab-badge.svg\" alt=\"Open In Colab\"/></a>"
      ]
    },
    {
      "cell_type": "markdown",
      "source": [
        "## While-Loops\n",
        "\n",
        "Perform the following steps in code:\n",
        "1. Define a variable and populate it with `0`.\n",
        "2. Create a while statement that evaluates whether that variable is less than or equal to `20`.\n",
        "3. Within the while loop evaluate if the variable value is even or odd.\n",
        "4. Within the while loop, if the variable value is even, print it. If not, do not print it.\n",
        "5. Within the while loop, finally add `1` to the variable before it repeats."
      ],
      "metadata": {
        "id": "But1V5T5qWJG"
      }
    },
    {
      "cell_type": "code",
      "source": [
        "# code here\n",
        "splat = 0\n",
        "while splat <= 20:\n",
        "    if splat % 2 == 0:\n",
        "        print(\"Even:\", splat)\n",
        "    splat += 1\n",
        "\n",
        "\n",
        "\n",
        "\n",
        "\n"
      ],
      "metadata": {
        "id": "GyQTkbqUq6SQ",
        "outputId": "3a962fe0-b0e8-4350-ac94-511d1bc3d7a8",
        "colab": {
          "base_uri": "https://localhost:8080/"
        }
      },
      "execution_count": 7,
      "outputs": [
        {
          "output_type": "stream",
          "name": "stdout",
          "text": [
            "Even: 0\n",
            "Even: 2\n",
            "Even: 4\n",
            "Even: 6\n",
            "Even: 8\n",
            "Even: 10\n",
            "Even: 12\n",
            "Even: 14\n",
            "Even: 16\n",
            "Even: 18\n",
            "Even: 20\n"
          ]
        }
      ]
    },
    {
      "cell_type": "code",
      "source": [],
      "metadata": {
        "id": "iKZta1LtfJ44",
        "outputId": "5202625e-395c-4aa6-c348-c54e65b8272b",
        "colab": {
          "base_uri": "https://localhost:8080/"
        }
      },
      "execution_count": 6,
      "outputs": [
        {
          "output_type": "execute_result",
          "data": {
            "text/plain": [
              "True"
            ]
          },
          "metadata": {},
          "execution_count": 6
        }
      ]
    },
    {
      "cell_type": "markdown",
      "source": [
        "## For-Loops with Lists"
      ],
      "metadata": {
        "id": "ghRg1MRwoXvD"
      }
    },
    {
      "cell_type": "code",
      "source": [
        "# Use this list in the exercises below\n",
        "\n",
        "mylist = [9, 15, 23, 4, 92, 47, 33, 17, -4, 18, 38, -242]"
      ],
      "metadata": {
        "id": "G0PaWRBuoZdQ"
      },
      "execution_count": 13,
      "outputs": []
    },
    {
      "cell_type": "code",
      "source": [
        "# Write a command to print out all the values of this list\n",
        "for things in mylist:\n",
        "  print(things)\n",
        "# EXCEPT for any negative values. Omit them from the printing.\n",
        "for things in mylist:\n",
        "  if things < 0:\n",
        "    continue\n",
        "  else:\n",
        "    print(things)\n",
        "\n"
      ],
      "metadata": {
        "id": "hzoe9vw3phWs",
        "outputId": "8499efda-f74c-4c42-e5f1-d54dbb35f91d",
        "colab": {
          "base_uri": "https://localhost:8080/"
        }
      },
      "execution_count": 17,
      "outputs": [
        {
          "output_type": "stream",
          "name": "stdout",
          "text": [
            "9\n",
            "15\n",
            "23\n",
            "4\n",
            "92\n",
            "47\n",
            "33\n",
            "17\n",
            "-4\n",
            "18\n",
            "38\n",
            "-242\n",
            "\n",
            "\n"
          ]
        }
      ]
    },
    {
      "cell_type": "code",
      "source": [
        "for things in mylist:\n",
        "  if things < 0:\n",
        "      print(abs(things))\n",
        "  else:\n",
        "    print(things)\n",
        "\n",
        "\n"
      ],
      "metadata": {
        "id": "4WpURP5zmPQi",
        "outputId": "3761caab-f66a-40ea-8b87-91b443139cc2",
        "colab": {
          "base_uri": "https://localhost:8080/"
        }
      },
      "execution_count": 53,
      "outputs": [
        {
          "output_type": "stream",
          "name": "stdout",
          "text": [
            "9\n",
            "15\n",
            "23\n",
            "4\n",
            "92\n",
            "47\n",
            "33\n",
            "17\n",
            "4\n",
            "18\n",
            "38\n",
            "242\n"
          ]
        }
      ]
    },
    {
      "cell_type": "code",
      "source": [
        "# Repeat the command from above, but this time get\n",
        "# the absolute value of any negative values in the list\n",
        "# and print those with the other items.\n",
        "\n",
        "for things in mylist:\n",
        "  if things < 0:\n",
        "      print(abs(things))\n",
        "  else:\n",
        "    print(things)\n",
        "\n",
        "\n"
      ],
      "metadata": {
        "id": "IE1-XLNrpnvy",
        "outputId": "910e7ab5-17a7-484c-9010-b78200b16dca",
        "colab": {
          "base_uri": "https://localhost:8080/"
        }
      },
      "execution_count": 55,
      "outputs": [
        {
          "output_type": "stream",
          "name": "stdout",
          "text": [
            "9\n",
            "15\n",
            "23\n",
            "4\n",
            "92\n",
            "47\n",
            "33\n",
            "17\n",
            "4\n",
            "18\n",
            "38\n",
            "242\n"
          ]
        }
      ]
    },
    {
      "cell_type": "code",
      "source": [
        "# Similar to above, write a command to print out items in\n",
        "# the list but omit any values greater than 20 and less than 40.\n",
        "\n",
        "for things in mylist:\n",
        "  if 20 < things < 40:\n",
        "    continue\n",
        "  print(things)\n",
        "\n",
        "\n",
        "\n",
        "\n"
      ],
      "metadata": {
        "id": "rC38pZowp4LX",
        "outputId": "837f65a2-bb3c-48a9-f00d-9013daf1fffc",
        "colab": {
          "base_uri": "https://localhost:8080/"
        }
      },
      "execution_count": 24,
      "outputs": [
        {
          "output_type": "stream",
          "name": "stdout",
          "text": [
            "9\n",
            "15\n",
            "4\n",
            "92\n",
            "47\n",
            "17\n",
            "-4\n",
            "18\n",
            "-242\n"
          ]
        }
      ]
    },
    {
      "cell_type": "markdown",
      "source": [
        "## For-Loops with Dictionaries"
      ],
      "metadata": {
        "id": "BD1Wg4oSSEdz"
      }
    },
    {
      "cell_type": "code",
      "source": [
        "capitals = {'United States':'Washington DC',\n",
        "          'Italy':'Rome',\n",
        "          'England':'London',\n",
        "          'Thailand':'Bangkok',\n",
        "          'Brazil':'Brasilia'}"
      ],
      "metadata": {
        "id": "9DpHR_WzSGA8"
      },
      "execution_count": 3,
      "outputs": []
    },
    {
      "cell_type": "code",
      "source": [
        "# Write a command to print out all the keys of this dictpri\n",
        "\n",
        "capitals.keys()"
      ],
      "metadata": {
        "id": "Iy_i6RE3S1ta",
        "outputId": "0dc5d3ec-56f0-4fa4-ba5f-ab23988eeccd",
        "colab": {
          "base_uri": "https://localhost:8080/"
        }
      },
      "execution_count": 26,
      "outputs": [
        {
          "output_type": "execute_result",
          "data": {
            "text/plain": [
              "dict_keys(['United States', 'Italy', 'England', 'Thailand', 'Brazil'])"
            ]
          },
          "metadata": {},
          "execution_count": 26
        }
      ]
    },
    {
      "cell_type": "code",
      "source": [
        "# Write a command to print out all the values of this dict\n",
        "capitals.values()"
      ],
      "metadata": {
        "id": "eYNBRQAsS95v",
        "outputId": "a5de2a0b-a791-49e9-dd93-8a2c47d13243",
        "colab": {
          "base_uri": "https://localhost:8080/"
        }
      },
      "execution_count": 27,
      "outputs": [
        {
          "output_type": "execute_result",
          "data": {
            "text/plain": [
              "dict_values(['Washington DC', 'Rome', 'London', 'Bangkok', 'Brasilia'])"
            ]
          },
          "metadata": {},
          "execution_count": 27
        }
      ]
    },
    {
      "cell_type": "code",
      "source": [
        "# Write a command to print all the keys and values for this dict\n",
        "print(capitals)\n"
      ],
      "metadata": {
        "id": "b1KYFdDxSH7X",
        "outputId": "713748c9-bedf-4e8c-b895-6b04ed33bdef",
        "colab": {
          "base_uri": "https://localhost:8080/"
        }
      },
      "execution_count": 28,
      "outputs": [
        {
          "output_type": "stream",
          "name": "stdout",
          "text": [
            "{'United States': 'Washington DC', 'Italy': 'Rome', 'England': 'London', 'Thailand': 'Bangkok', 'Brazil': 'Brasilia'}\n"
          ]
        }
      ]
    },
    {
      "cell_type": "code",
      "source": [
        "# Write a command to print only the first three values and NOTHING more.\n",
        "count = 0\n",
        "for country, capital in capitals.items():\n",
        "  if count <3:\n",
        "    print(capital)\n",
        "    count += 1\n",
        "  else:\n",
        "    break"
      ],
      "metadata": {
        "id": "pun10Fq2oonQ",
        "outputId": "a9cc2165-0c32-447c-df9c-c3530c509948",
        "colab": {
          "base_uri": "https://localhost:8080/"
        }
      },
      "execution_count": 38,
      "outputs": [
        {
          "output_type": "stream",
          "name": "stdout",
          "text": [
            "Washington DC\n",
            "Rome\n",
            "London\n"
          ]
        }
      ]
    }
  ]
}