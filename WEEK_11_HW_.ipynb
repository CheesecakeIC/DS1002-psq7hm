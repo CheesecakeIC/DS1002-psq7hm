{
  "nbformat": 4,
  "nbformat_minor": 0,
  "metadata": {
    "colab": {
      "provenance": [],
      "include_colab_link": true
    },
    "kernelspec": {
      "name": "python3",
      "display_name": "Python 3"
    },
    "language_info": {
      "name": "python"
    }
  },
  "cells": [
    {
      "cell_type": "markdown",
      "metadata": {
        "id": "view-in-github",
        "colab_type": "text"
      },
      "source": [
        "<a href=\"https://colab.research.google.com/github/CheesecakeIC/DS1002-psq7hm/blob/main/WEEK_11_HW_.ipynb\" target=\"_parent\"><img src=\"https://colab.research.google.com/assets/colab-badge.svg\" alt=\"Open In Colab\"/></a>"
      ]
    },
    {
      "cell_type": "markdown",
      "source": [
        "# Homework - Error Handling & Recursion\n",
        "\n",
        "Complete the cells below. Pay close attention to all directions given.\n",
        "\n",
        "## Error Handling (3 pts)\n",
        "\n",
        "```\n",
        "def throw_me_an_error():\n",
        "  val1 = 14\n",
        "  val2 = 0\n",
        "  return val1 / val2\n",
        "\n",
        "throw_me_an_error()\n",
        "```\n",
        "\n",
        "The function above is designed to deliberately throw an error.\n",
        "\n",
        "Create a new version of the function but add `try` and `except` statements correctly. Your exception should print out the type of error this function created. There are a couple of different ways you could do this.\n"
      ],
      "metadata": {
        "id": "v14Xtd9oiTGF"
      }
    },
    {
      "cell_type": "code",
      "execution_count": null,
      "metadata": {
        "id": "-dfq0Vo_iSi7",
        "colab": {
          "base_uri": "https://localhost:8080/"
        },
        "outputId": "6103a2e3-81b0-4339-c155-3b095bd2b389"
      },
      "outputs": [
        {
          "output_type": "stream",
          "name": "stdout",
          "text": [
            "This is the error: ZeroDivisionError\n"
          ]
        }
      ],
      "source": [
        "# answer goes here.\n",
        "def create_an_error():\n",
        "    val1 = 14\n",
        "    val2 = 0\n",
        "    try:\n",
        "        result = val1 / val2\n",
        "    except ZeroDivisionError as error:\n",
        "       print(f\"This is the error: {type(error).__name__}\")\n",
        "\n",
        "create_an_error()"
      ]
    },
    {
      "cell_type": "markdown",
      "source": [
        "## Error Handling (4 pts)\n",
        "\n",
        "Extend the class below to include some error handling. Assume the remote resource is offline for a moment: How would you give a message to the user indicating what has gone wrong? (Hint: one way you can test this is by deliberately misspelling the URL for the remote resource.)\n",
        "\n",
        "Also, include error handling logic so that execution of the class method `guid()` always returns a line \"Your request has been completed\" along with the guid it created.\n",
        "\n",
        "```\n",
        "import requests\n",
        "import json\n",
        "import sys\n",
        "\n",
        "class Id:\n",
        "\n",
        "  def guid():\n",
        "    response = requests.get('https://ids.pods.uvarc.io/guid')\n",
        "    body = json.loads(response.text)\n",
        "    return body['id']\n",
        "\n",
        "Id.guid()\n",
        "```"
      ],
      "metadata": {
        "id": "gf9m78RWmWqC"
      }
    },
    {
      "cell_type": "code",
      "source": [
        "import requests\n",
        "import json\n",
        "import sys\n",
        "\n",
        "class umoja:\n",
        "\n",
        "    @classmethod\n",
        "    def guid(cls):\n",
        "        try:\n",
        "            response = requests.get('https://ids.pods.uvarc.io/guid')\n",
        "            response.raise_for_status()\n",
        "\n",
        "            body = json.loads(response.text)\n",
        "            return f\"Your request has been completed. GUID: {body['id']}\"\n",
        "        except Exception as f:\n",
        "            return f\"An error occurred: {str(f)}\"\n",
        "\n",
        "result = umoja.guid()\n",
        "print(result)"
      ],
      "metadata": {
        "colab": {
          "base_uri": "https://localhost:8080/"
        },
        "id": "VMMOBvu9xtn1",
        "outputId": "0022762e-d309-472a-d63e-c7cf94ffde0e"
      },
      "execution_count": null,
      "outputs": [
        {
          "output_type": "stream",
          "name": "stdout",
          "text": [
            "Your request has been completed. GUID: 2c771de3-02ea-4c5e-8c9a-68c3e8daddc6\n"
          ]
        }
      ]
    },
    {
      "cell_type": "code",
      "source": [
        "\n",
        "x = 10 / 0\n",
        "try:\n",
        "    print(x)\n",
        "except:\n",
        "    print(\"caught an exception\")"
      ],
      "metadata": {
        "colab": {
          "base_uri": "https://localhost:8080/",
          "height": 250
        },
        "id": "HK5p4NY-_bM3",
        "outputId": "93cc2a1f-3c9b-425d-b21c-b50faf65e58d"
      },
      "execution_count": null,
      "outputs": [
        {
          "output_type": "error",
          "ename": "ZeroDivisionError",
          "evalue": "ignored",
          "traceback": [
            "\u001b[0;31m---------------------------------------------------------------------------\u001b[0m",
            "\u001b[0;31mZeroDivisionError\u001b[0m                         Traceback (most recent call last)",
            "\u001b[0;32m<ipython-input-31-ed384ffd84e8>\u001b[0m in \u001b[0;36m<cell line: 1>\u001b[0;34m()\u001b[0m\n\u001b[0;32m----> 1\u001b[0;31m \u001b[0mx\u001b[0m \u001b[0;34m=\u001b[0m \u001b[0;36m10\u001b[0m \u001b[0;34m/\u001b[0m \u001b[0;36m0\u001b[0m\u001b[0;34m\u001b[0m\u001b[0;34m\u001b[0m\u001b[0m\n\u001b[0m\u001b[1;32m      2\u001b[0m \u001b[0;32mtry\u001b[0m\u001b[0;34m:\u001b[0m\u001b[0;34m\u001b[0m\u001b[0;34m\u001b[0m\u001b[0m\n\u001b[1;32m      3\u001b[0m     \u001b[0mprint\u001b[0m\u001b[0;34m(\u001b[0m\u001b[0mx\u001b[0m\u001b[0;34m)\u001b[0m\u001b[0;34m\u001b[0m\u001b[0;34m\u001b[0m\u001b[0m\n\u001b[1;32m      4\u001b[0m \u001b[0;32mexcept\u001b[0m\u001b[0;34m:\u001b[0m\u001b[0;34m\u001b[0m\u001b[0;34m\u001b[0m\u001b[0m\n\u001b[1;32m      5\u001b[0m     \u001b[0mprint\u001b[0m\u001b[0;34m(\u001b[0m\u001b[0;34m\"caught an exception\"\u001b[0m\u001b[0;34m)\u001b[0m\u001b[0;34m\u001b[0m\u001b[0;34m\u001b[0m\u001b[0m\n",
            "\u001b[0;31mZeroDivisionError\u001b[0m: division by zero"
          ]
        }
      ]
    },
    {
      "cell_type": "code",
      "source": [
        "x = 10\n",
        "try:\n",
        "    print(x/0)\n",
        "except:\n",
        "    print(\"caught an exception\")"
      ],
      "metadata": {
        "colab": {
          "base_uri": "https://localhost:8080/"
        },
        "id": "OUz5TtZkAPMZ",
        "outputId": "aff82393-2852-4624-b26d-cdefe0cb6486"
      },
      "execution_count": null,
      "outputs": [
        {
          "output_type": "stream",
          "name": "stdout",
          "text": [
            "caught an exception\n"
          ]
        }
      ]
    },
    {
      "cell_type": "markdown",
      "source": [
        "## Recursive Functions (3 pts)\n",
        "\n",
        "In the cell below, explain line by line the logic of what is being calculated when the function is called with an input value of 2.\n",
        "\n",
        "```\n",
        "def squarer(n):\n",
        "  if n == 1:\n",
        "    return 2\n",
        "  else:\n",
        "    return squarer(n-1) ** 2 + n\n",
        "\n",
        "squarer(2)\n",
        "```"
      ],
      "metadata": {
        "id": "XCuNofSFomZ6"
      }
    },
    {
      "cell_type": "code",
      "source": [
        "# answer goes here. Add space as needed.\n",
        "\n",
        "Line 1. def square(n) # this si defining the function square n, where if n is equal to 1, return the value of 2,\n",
        "Line 2. if n == 1: return 2 # if n is equal to one, return the value of 2. This is defining the function above.\n",
        "Line 3. else: # this is the part of the function where we ajust for a different outcome. if n does not equal 1, then\n",
        "              #return the fucntion/equation below.\n",
        "Line 4.return squarer(n-1) ** 2 + n: #this is the else function, this is what happends when n does not equal 1, this is defining the else.\n",
        "Line 5. squarer(2): # this final line is running the function with a parameter value, and in this case, the value is 2, with is not equal to one.\n",
        "                    # this will fall into the else funciton and plug the numbers into line four, returning a value of 6.\n"
      ],
      "metadata": {
        "id": "oYiqS2cxxXm4"
      },
      "execution_count": null,
      "outputs": []
    }
  ]
}